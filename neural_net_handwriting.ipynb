{
 "cells": [
  {
   "cell_type": "code",
   "execution_count": null,
   "metadata": {
    "collapsed": true
   },
   "outputs": [],
   "source": [
    "# This notebook is an attempt to train a neural net to recognize my handwriting\n",
    "# Each instance will be trained for a specific letter\n",
    "import numpy\n",
    "\n",
    "# Represents a class for a specific recognition function.\n",
    "class Neuron:\n",
    "  def __init__(self):\n",
    "    pass\n",
    "    \n",
    "    def _nonlin(x, deriv=False):        \n",
    "        if(deriv==True):\n",
    "            return x*(1-x)\n",
    "\n",
    "    return 1/(1+np.exp(-x))\n",
    "    \n",
    "    def train(self, data, iterations = 10000):\n",
    "    \n",
    "\n"
   ]
  }
 ],
 "metadata": {
  "kernelspec": {
   "display_name": "Python 2",
   "language": "python",
   "name": "python2"
  },
  "language_info": {
   "codemirror_mode": {
    "name": "ipython",
    "version": 2
   },
   "file_extension": ".py",
   "mimetype": "text/x-python",
   "name": "python",
   "nbconvert_exporter": "python",
   "pygments_lexer": "ipython2",
   "version": "2.7.11"
  }
 },
 "nbformat": 4,
 "nbformat_minor": 0
}
